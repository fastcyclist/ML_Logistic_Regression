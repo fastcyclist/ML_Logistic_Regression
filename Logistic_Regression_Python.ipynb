{
 "cells": [
  {
   "cell_type": "markdown",
   "metadata": {},
   "source": [
    "# Logistic Regression in Python\n",
    "#### This is a practice of what's on https://youtu.be/C4N3_XJJ-jU\n",
    "#### Data is from https://archive.ics.uci.edu/ml/datasets/Breast+Cancer+Wisconsin+%28Diagnostic%29\n",
    "#### & https://archive.ics.uci.edu/ml/machine-learning-databases/breast-cancer-wisconsin/\n",
    "#### (wdbc.data & wdbc.names)"
   ]
  },
  {
   "cell_type": "code",
   "execution_count": 1,
   "metadata": {
    "scrolled": true
   },
   "outputs": [
    {
     "data": {
      "text/html": [
       "<div>\n",
       "<style scoped>\n",
       "    .dataframe tbody tr th:only-of-type {\n",
       "        vertical-align: middle;\n",
       "    }\n",
       "\n",
       "    .dataframe tbody tr th {\n",
       "        vertical-align: top;\n",
       "    }\n",
       "\n",
       "    .dataframe thead th {\n",
       "        text-align: right;\n",
       "    }\n",
       "</style>\n",
       "<table border=\"1\" class=\"dataframe\">\n",
       "  <thead>\n",
       "    <tr style=\"text-align: right;\">\n",
       "      <th></th>\n",
       "      <th>ID_number</th>\n",
       "      <th>Diagnosis</th>\n",
       "      <th>radius</th>\n",
       "      <th>texture</th>\n",
       "      <th>perimeter</th>\n",
       "      <th>area</th>\n",
       "      <th>smoothness</th>\n",
       "      <th>compactness</th>\n",
       "      <th>concavity</th>\n",
       "      <th>concave_points</th>\n",
       "      <th>symmetry</th>\n",
       "      <th>fractal_dimension</th>\n",
       "    </tr>\n",
       "  </thead>\n",
       "  <tbody>\n",
       "    <tr>\n",
       "      <th>0</th>\n",
       "      <td>842302</td>\n",
       "      <td>M</td>\n",
       "      <td>17.99</td>\n",
       "      <td>10.38</td>\n",
       "      <td>122.80</td>\n",
       "      <td>1001.0</td>\n",
       "      <td>0.11840</td>\n",
       "      <td>0.27760</td>\n",
       "      <td>0.3001</td>\n",
       "      <td>0.14710</td>\n",
       "      <td>0.2419</td>\n",
       "      <td>0.07871</td>\n",
       "    </tr>\n",
       "    <tr>\n",
       "      <th>1</th>\n",
       "      <td>842517</td>\n",
       "      <td>M</td>\n",
       "      <td>20.57</td>\n",
       "      <td>17.77</td>\n",
       "      <td>132.90</td>\n",
       "      <td>1326.0</td>\n",
       "      <td>0.08474</td>\n",
       "      <td>0.07864</td>\n",
       "      <td>0.0869</td>\n",
       "      <td>0.07017</td>\n",
       "      <td>0.1812</td>\n",
       "      <td>0.05667</td>\n",
       "    </tr>\n",
       "    <tr>\n",
       "      <th>2</th>\n",
       "      <td>84300903</td>\n",
       "      <td>M</td>\n",
       "      <td>19.69</td>\n",
       "      <td>21.25</td>\n",
       "      <td>130.00</td>\n",
       "      <td>1203.0</td>\n",
       "      <td>0.10960</td>\n",
       "      <td>0.15990</td>\n",
       "      <td>0.1974</td>\n",
       "      <td>0.12790</td>\n",
       "      <td>0.2069</td>\n",
       "      <td>0.05999</td>\n",
       "    </tr>\n",
       "    <tr>\n",
       "      <th>3</th>\n",
       "      <td>84348301</td>\n",
       "      <td>M</td>\n",
       "      <td>11.42</td>\n",
       "      <td>20.38</td>\n",
       "      <td>77.58</td>\n",
       "      <td>386.1</td>\n",
       "      <td>0.14250</td>\n",
       "      <td>0.28390</td>\n",
       "      <td>0.2414</td>\n",
       "      <td>0.10520</td>\n",
       "      <td>0.2597</td>\n",
       "      <td>0.09744</td>\n",
       "    </tr>\n",
       "    <tr>\n",
       "      <th>4</th>\n",
       "      <td>84358402</td>\n",
       "      <td>M</td>\n",
       "      <td>20.29</td>\n",
       "      <td>14.34</td>\n",
       "      <td>135.10</td>\n",
       "      <td>1297.0</td>\n",
       "      <td>0.10030</td>\n",
       "      <td>0.13280</td>\n",
       "      <td>0.1980</td>\n",
       "      <td>0.10430</td>\n",
       "      <td>0.1809</td>\n",
       "      <td>0.05883</td>\n",
       "    </tr>\n",
       "  </tbody>\n",
       "</table>\n",
       "</div>"
      ],
      "text/plain": [
       "   ID_number Diagnosis  radius  texture  perimeter    area  smoothness  \\\n",
       "0     842302         M   17.99    10.38     122.80  1001.0     0.11840   \n",
       "1     842517         M   20.57    17.77     132.90  1326.0     0.08474   \n",
       "2   84300903         M   19.69    21.25     130.00  1203.0     0.10960   \n",
       "3   84348301         M   11.42    20.38      77.58   386.1     0.14250   \n",
       "4   84358402         M   20.29    14.34     135.10  1297.0     0.10030   \n",
       "\n",
       "   compactness  concavity  concave_points  symmetry  fractal_dimension  \n",
       "0      0.27760     0.3001         0.14710    0.2419            0.07871  \n",
       "1      0.07864     0.0869         0.07017    0.1812            0.05667  \n",
       "2      0.15990     0.1974         0.12790    0.2069            0.05999  \n",
       "3      0.28390     0.2414         0.10520    0.2597            0.09744  \n",
       "4      0.13280     0.1980         0.10430    0.1809            0.05883  "
      ]
     },
     "execution_count": 1,
     "metadata": {},
     "output_type": "execute_result"
    }
   ],
   "source": [
    "# Read data\n",
    "import pandas as pd\n",
    "import numpy as np\n",
    "\n",
    "BCdata = pd.read_csv('wdbc.data', header=None, usecols=range(0,12),\n",
    "                     names=['ID_number','Diagnosis','radius','texture','perimeter',\n",
    "                            'area','smoothness','compactness','concavity','concave_points','symmetry','fractal_dimension'])\n",
    "# Cursory check\n",
    "BCdata.head()"
   ]
  },
  {
   "cell_type": "code",
   "execution_count": 2,
   "metadata": {},
   "outputs": [
    {
     "name": "stderr",
     "output_type": "stream",
     "text": [
      "/home/fastcyclist/.local/lib/python3.6/site-packages/matplotlib/__init__.py:886: MatplotlibDeprecationWarning: \n",
      "examples.directory is deprecated; in the future, examples will be found relative to the 'datapath' directory.\n",
      "  \"found relative to the 'datapath' directory.\".format(key))\n"
     ]
    }
   ],
   "source": [
    "# Matrix plot\n",
    "import seaborn as sns; sns.set(style=\"ticks\", color_codes=True)\n",
    "# get a few columns of BCdata.\n",
    "BCdata_small = BCdata.iloc[:,2:]\n",
    "g = sns.pairplot(BCdata_small)"
   ]
  },
  {
   "cell_type": "code",
   "execution_count": 3,
   "metadata": {},
   "outputs": [
    {
     "data": {
      "image/png": "[encoded data removed]",
      "text/plain": [
       "<Figure size 504x360 with 1 Axes>"
      ]
     },
     "metadata": {
      "needs_background": "light"
     },
     "output_type": "display_data"
    }
   ],
   "source": [
    "# Plot 'Diagnosis'(y) vs 'radius'(x)\n",
    "import matplotlib.pyplot as plt\n",
    "\n",
    "x=BCdata['radius']\n",
    "y=BCdata['Diagnosis']\n",
    "\n",
    "fig = plt.figure(figsize=(7,5))\n",
    "plt.scatter(x,y)\n",
    "plt.xlabel('radius')\n",
    "plt.ylabel('Diagnosis')\n",
    "plt.show()"
   ]
  },
  {
   "cell_type": "code",
   "execution_count": 4,
   "metadata": {
    "scrolled": true
   },
   "outputs": [],
   "source": [
    "# This is optional.\n",
    "#BCdata.loc[BCdata['Diagnosis']=='M','Diagnosis']=1    # Change Malignant to 1\n",
    "#BCdata.loc[BCdata['Diagnosis']=='B','Diagnosis']=0    # Change Benigh to 0\n",
    "#BCdata"
   ]
  },
  {
   "cell_type": "code",
   "execution_count": 5,
   "metadata": {
    "scrolled": false
   },
   "outputs": [],
   "source": [
    "# Build a logistic regression model to predict Diagnosis using radius.\n",
    "from sklearn.linear_model import LogisticRegression\n",
    "\n",
    "x=BCdata['radius'].values.reshape(-1, 1)\n",
    "y=BCdata['Diagnosis'].values.ravel()\n",
    "BC_logistic = LogisticRegression(random_state=0, solver='lbfgs').fit(x, y)"
   ]
  },
  {
   "cell_type": "code",
   "execution_count": 6,
   "metadata": {
    "scrolled": true
   },
   "outputs": [
    {
     "name": "stdout",
     "output_type": "stream",
     "text": [
      "[-15.120902]\n",
      "[[1.02475609]]\n",
      "[13]\n"
     ]
    }
   ],
   "source": [
    "# Summary\n",
    "# Same coefficients from R\n",
    "print(BC_logistic.intercept_)\n",
    "print(BC_logistic.coef_)\n",
    "\n",
    "# sklearn does not provide detailed report like R. No mention of Std. Error, z values, or p values.\n",
    "# If these values are important, either use R or check out statsmodels package.\n",
    "\n",
    "# The number of iterations it went through.\n",
    "print(BC_logistic.n_iter_)"
   ]
  },
  {
   "cell_type": "code",
   "execution_count": 7,
   "metadata": {
    "scrolled": false
   },
   "outputs": [
    {
     "name": "stdout",
     "output_type": "stream",
     "text": [
      "['B' 'M']\n",
      "[[9.99646619e-01 3.53381325e-04]\n",
      " [2.75908116e-05 9.99972409e-01]]\n",
      "0.8787346221441125\n"
     ]
    }
   ],
   "source": [
    "# Predict y using a new x.\n",
    "\n",
    "# Predict what radius=7 & 25 would result in\n",
    "print(BC_logistic.predict([[7], [25]]))\n",
    "\n",
    "# Probability of Diagnosis being 0 or 1 with radius=7 & 25 [[Pr(0), Pr(1)]]\n",
    "print(BC_logistic.predict_proba([[7], [25]]))\n",
    "\n",
    "# Mean accuracy on the given test data and labels.\n",
    "print(BC_logistic.score(x, y))"
   ]
  },
  {
   "cell_type": "code",
   "execution_count": null,
   "metadata": {},
   "outputs": [],
   "source": []
  },
  {
   "cell_type": "code",
   "execution_count": null,
   "metadata": {},
   "outputs": [],
   "source": []
  },
  {
   "cell_type": "markdown",
   "metadata": {},
   "source": [
    "# Logistic Regression (multiple features) in Python\n",
    "#### Unlike the above case, use multiple inputs (x features) to predict a single output (y values)."
   ]
  },
  {
   "cell_type": "code",
   "execution_count": 8,
   "metadata": {},
   "outputs": [],
   "source": [
    "# Build a logistic regression model to predict Diagnosis using radius.\n",
    "from sklearn.linear_model import LogisticRegression\n",
    "\n",
    "x=BCdata.iloc[:,2:12].values\n",
    "y=BCdata['Diagnosis'].values.ravel()\n",
    "BC_logistic = LogisticRegression(random_state=0, solver='lbfgs').fit(x, y)"
   ]
  },
  {
   "cell_type": "code",
   "execution_count": 9,
   "metadata": {},
   "outputs": [
    {
     "name": "stdout",
     "output_type": "stream",
     "text": [
      "[-21.21678375]\n",
      "[[-2.70781209  0.22631006  0.61513574 -0.00406743  0.57866147  0.77905984\n",
      "   1.31205117  0.85598994  0.67263816  0.11450678]]\n",
      "[88]\n"
     ]
    }
   ],
   "source": [
    "# Summary\n",
    "# Same coefficients from R\n",
    "print(BC_logistic.intercept_)\n",
    "print(BC_logistic.coef_)\n",
    "\n",
    "# sklearn does not provide detailed report like R. No mention of Std. Error, z values, or p values.\n",
    "# If these values are important, either use R or check out statsmodels package.\n",
    "\n",
    "# The number of iterations it went through.\n",
    "print(BC_logistic.n_iter_)"
   ]
  },
  {
   "cell_type": "code",
   "execution_count": 10,
   "metadata": {},
   "outputs": [
    {
     "name": "stdout",
     "output_type": "stream",
     "text": [
      "['M']\n",
      "[[1.77635684e-15 1.00000000e+00]]\n",
      "0.9121265377855887\n"
     ]
    }
   ],
   "source": [
    "# Predict y using a new x.\n",
    "\n",
    "# Predict what radius=7, texture=10, perimeter=122, area=1000, smoothness=0.1, compactness=0.27,\n",
    "#               concavity=0.3, concave_points=0.1, symmetry=0.24, fractal_dimension=0.08 would result in\n",
    "print(BC_logistic.predict([[7, 10, 122, 1000, 0.1, 0.27, 0.3, 0.1, 0.24, 0.08]]))\n",
    "\n",
    "# Probability of Diagnosis being 0 or 1 with \n",
    "#               radius=7, texture=10, perimeter=122, area=1000, smoothness=0.1, compactness=0.27,\n",
    "#               concavity=0.3, concave_points=0.1, symmetry=0.24, fractal_dimension=0.08 [[Pr(0), Pr(1)]]\n",
    "print(BC_logistic.predict_proba([[7, 10, 122, 1000, 0.1, 0.27, 0.3, 0.1, 0.24, 0.08]]))\n",
    "\n",
    "# Mean accuracy on the given test data and labels.\n",
    "print(BC_logistic.score(x, y))"
   ]
  },
  {
   "cell_type": "code",
   "execution_count": null,
   "metadata": {},
   "outputs": [],
   "source": []
  },
  {
   "cell_type": "code",
   "execution_count": null,
   "metadata": {},
   "outputs": [],
   "source": []
  }
 ],
 "metadata": {
  "kernelspec": {
   "display_name": "Python 3",
   "language": "python",
   "name": "python3"
  },
  "language_info": {
   "codemirror_mode": {
    "name": "ipython",
    "version": 3
   },
   "file_extension": ".py",
   "mimetype": "text/x-python",
   "name": "python",
   "nbconvert_exporter": "python",
   "pygments_lexer": "ipython3",
   "version": "3.6.9"
  }
 },
 "nbformat": 4,
 "nbformat_minor": 2
}
